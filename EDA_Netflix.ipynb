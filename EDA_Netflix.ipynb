{
  "cells": [
    {
      "cell_type": "markdown",
      "metadata": {
        "id": "view-in-github",
        "colab_type": "text"
      },
      "source": [
        "<a href=\"https://colab.research.google.com/github/minininjaaa/EDA-Netflix/blob/main/EDA_Netflix.ipynb\" target=\"_parent\"><img src=\"https://colab.research.google.com/assets/colab-badge.svg\" alt=\"Open In Colab\"/></a>"
      ]
    },
    {
      "cell_type": "code",
      "execution_count": 2,
      "metadata": {
        "id": "fTEA_JGYP6di"
      },
      "outputs": [],
      "source": [
        "import numpy as np\n",
        "import matplotlib.pyplot as plt\n",
        "import seaborn as sns\n",
        "import pandas as pd\n",
        "%matplotlib inline"
      ]
    },
    {
      "cell_type": "markdown",
      "metadata": {
        "id": "GNs6yg1QT0I3"
      },
      "source": [
        "# Визуальный анализ рейтингов шоу Netflix\n",
        "<img src=\"https://pp.userapi.com/c854528/v854528797/c62ce/FiPEibYUxJc.jpg\" width=\"40%\">"
      ]
    },
    {
      "cell_type": "markdown",
      "metadata": {
        "id": "JYeFv80TV21w"
      },
      "source": [
        "Netflix за последние 5-10 лет обзавелись большим количеством зрителей. С увеличением числа зрителей увеличилось и разнообразие шоу. Соответственно, перед аналитиками из киноиндустрии встала задача исследования данных с рейтингами различных сериалов.\n",
        "В данном задании нам предстоит провести визуальный анализ датасета **1000 Netflix Shows** и сделать выводы.\n",
        "\n"
      ]
    },
    {
      "cell_type": "markdown",
      "metadata": {
        "id": "7TCLul8ycMHW"
      },
      "source": [
        "### Описание признаков:\n",
        "* `title` - название шоу.\n",
        "* `rating` - рейтинг шоу. Например: G, PG, TV-14, TV-MA.\n",
        "* `ratingLevel` - описание рейтинговой группы и особенностей шоу.\n",
        "* `ratingDescription` - рейтинг шоу, закодированный в числом.\n",
        "* `release year` - год выпуска шоу.\n",
        "* `user rating score` - оценка пользователей.\n",
        "* `user_rating_size` - общий рейтинг пользователей."
      ]
    },
    {
      "cell_type": "code",
      "source": [
        "from google.colab import drive\n",
        "drive.mount('/content/drive')"
      ],
      "metadata": {
        "colab": {
          "base_uri": "https://localhost:8080/"
        },
        "id": "szpCRovGxf4Z",
        "outputId": "ed7ada3d-84cc-49d1-c5b8-45b737af7b09"
      },
      "execution_count": 1,
      "outputs": [
        {
          "output_type": "stream",
          "name": "stdout",
          "text": [
            "Mounted at /content/drive\n"
          ]
        }
      ]
    },
    {
      "cell_type": "code",
      "execution_count": 3,
      "metadata": {
        "id": "8Zgk_NN_SSDm"
      },
      "outputs": [],
      "source": [
        "data = pd.read_csv('/content/drive/MyDrive/Netflix/NetflixShows - NetflixShows.csv', encoding='cp437')\n",
        "del data['ratingDescription'], data['user rating size']"
      ]
    },
    {
      "cell_type": "code",
      "execution_count": 4,
      "metadata": {
        "id": "5io1SYsxJOLL",
        "colab": {
          "base_uri": "https://localhost:8080/",
          "height": 424
        },
        "outputId": "2b85ff16-f5c5-495f-b1b4-8f17110bce59"
      },
      "outputs": [
        {
          "output_type": "execute_result",
          "data": {
            "text/plain": [
              "                       title rating  \\\n",
              "0               White Chicks  PG-13   \n",
              "1        Lucky Number Slevin      R   \n",
              "2             Grey's Anatomy  TV-14   \n",
              "3               Prison Break  TV-14   \n",
              "4      How I Met Your Mother  TV-PG   \n",
              "..                       ...    ...   \n",
              "995                  The BFG     PG   \n",
              "996  The Secret Life of Pets     PG   \n",
              "997         Precious Puppies   TV-G   \n",
              "998              Beary Tales   TV-G   \n",
              "999          Growing Up Wild      G   \n",
              "\n",
              "                                                                       ratingLevel  \\\n",
              "0                           crude and sexual humor, language and some drug content   \n",
              "1                               strong violence, sexual content and adult language   \n",
              "2    Parents strongly cautioned. May be unsuitable for children ages 14 and under.   \n",
              "3    Parents strongly cautioned. May be unsuitable for children ages 14 and under.   \n",
              "4               Parental guidance suggested. May not be suitable for all children.   \n",
              "..                                                                             ...   \n",
              "995                      for action/peril, some scary moments and brief rude humor   \n",
              "996                                                 for action and some rude humor   \n",
              "997                                                         Suitable for all ages.   \n",
              "998                                                         Suitable for all ages.   \n",
              "999                                                                            NaN   \n",
              "\n",
              "     release year  user rating score  \n",
              "0            2004               82.0  \n",
              "1            2006                NaN  \n",
              "2            2016               98.0  \n",
              "3            2008               98.0  \n",
              "4            2014               94.0  \n",
              "..            ...                ...  \n",
              "995          2016               97.0  \n",
              "996          2016                NaN  \n",
              "997          2003                NaN  \n",
              "998          2013                NaN  \n",
              "999          2016               80.0  \n",
              "\n",
              "[1000 rows x 5 columns]"
            ],
            "text/html": [
              "\n",
              "  <div id=\"df-76b0386c-6104-47bf-9698-c1c5289adc28\">\n",
              "    <div class=\"colab-df-container\">\n",
              "      <div>\n",
              "<style scoped>\n",
              "    .dataframe tbody tr th:only-of-type {\n",
              "        vertical-align: middle;\n",
              "    }\n",
              "\n",
              "    .dataframe tbody tr th {\n",
              "        vertical-align: top;\n",
              "    }\n",
              "\n",
              "    .dataframe thead th {\n",
              "        text-align: right;\n",
              "    }\n",
              "</style>\n",
              "<table border=\"1\" class=\"dataframe\">\n",
              "  <thead>\n",
              "    <tr style=\"text-align: right;\">\n",
              "      <th></th>\n",
              "      <th>title</th>\n",
              "      <th>rating</th>\n",
              "      <th>ratingLevel</th>\n",
              "      <th>release year</th>\n",
              "      <th>user rating score</th>\n",
              "    </tr>\n",
              "  </thead>\n",
              "  <tbody>\n",
              "    <tr>\n",
              "      <th>0</th>\n",
              "      <td>White Chicks</td>\n",
              "      <td>PG-13</td>\n",
              "      <td>crude and sexual humor, language and some drug content</td>\n",
              "      <td>2004</td>\n",
              "      <td>82.0</td>\n",
              "    </tr>\n",
              "    <tr>\n",
              "      <th>1</th>\n",
              "      <td>Lucky Number Slevin</td>\n",
              "      <td>R</td>\n",
              "      <td>strong violence, sexual content and adult language</td>\n",
              "      <td>2006</td>\n",
              "      <td>NaN</td>\n",
              "    </tr>\n",
              "    <tr>\n",
              "      <th>2</th>\n",
              "      <td>Grey's Anatomy</td>\n",
              "      <td>TV-14</td>\n",
              "      <td>Parents strongly cautioned. May be unsuitable for children ages 14 and under.</td>\n",
              "      <td>2016</td>\n",
              "      <td>98.0</td>\n",
              "    </tr>\n",
              "    <tr>\n",
              "      <th>3</th>\n",
              "      <td>Prison Break</td>\n",
              "      <td>TV-14</td>\n",
              "      <td>Parents strongly cautioned. May be unsuitable for children ages 14 and under.</td>\n",
              "      <td>2008</td>\n",
              "      <td>98.0</td>\n",
              "    </tr>\n",
              "    <tr>\n",
              "      <th>4</th>\n",
              "      <td>How I Met Your Mother</td>\n",
              "      <td>TV-PG</td>\n",
              "      <td>Parental guidance suggested. May not be suitable for all children.</td>\n",
              "      <td>2014</td>\n",
              "      <td>94.0</td>\n",
              "    </tr>\n",
              "    <tr>\n",
              "      <th>...</th>\n",
              "      <td>...</td>\n",
              "      <td>...</td>\n",
              "      <td>...</td>\n",
              "      <td>...</td>\n",
              "      <td>...</td>\n",
              "    </tr>\n",
              "    <tr>\n",
              "      <th>995</th>\n",
              "      <td>The BFG</td>\n",
              "      <td>PG</td>\n",
              "      <td>for action/peril, some scary moments and brief rude humor</td>\n",
              "      <td>2016</td>\n",
              "      <td>97.0</td>\n",
              "    </tr>\n",
              "    <tr>\n",
              "      <th>996</th>\n",
              "      <td>The Secret Life of Pets</td>\n",
              "      <td>PG</td>\n",
              "      <td>for action and some rude humor</td>\n",
              "      <td>2016</td>\n",
              "      <td>NaN</td>\n",
              "    </tr>\n",
              "    <tr>\n",
              "      <th>997</th>\n",
              "      <td>Precious Puppies</td>\n",
              "      <td>TV-G</td>\n",
              "      <td>Suitable for all ages.</td>\n",
              "      <td>2003</td>\n",
              "      <td>NaN</td>\n",
              "    </tr>\n",
              "    <tr>\n",
              "      <th>998</th>\n",
              "      <td>Beary Tales</td>\n",
              "      <td>TV-G</td>\n",
              "      <td>Suitable for all ages.</td>\n",
              "      <td>2013</td>\n",
              "      <td>NaN</td>\n",
              "    </tr>\n",
              "    <tr>\n",
              "      <th>999</th>\n",
              "      <td>Growing Up Wild</td>\n",
              "      <td>G</td>\n",
              "      <td>NaN</td>\n",
              "      <td>2016</td>\n",
              "      <td>80.0</td>\n",
              "    </tr>\n",
              "  </tbody>\n",
              "</table>\n",
              "<p>1000 rows × 5 columns</p>\n",
              "</div>\n",
              "      <button class=\"colab-df-convert\" onclick=\"convertToInteractive('df-76b0386c-6104-47bf-9698-c1c5289adc28')\"\n",
              "              title=\"Convert this dataframe to an interactive table.\"\n",
              "              style=\"display:none;\">\n",
              "        \n",
              "  <svg xmlns=\"http://www.w3.org/2000/svg\" height=\"24px\"viewBox=\"0 0 24 24\"\n",
              "       width=\"24px\">\n",
              "    <path d=\"M0 0h24v24H0V0z\" fill=\"none\"/>\n",
              "    <path d=\"M18.56 5.44l.94 2.06.94-2.06 2.06-.94-2.06-.94-.94-2.06-.94 2.06-2.06.94zm-11 1L8.5 8.5l.94-2.06 2.06-.94-2.06-.94L8.5 2.5l-.94 2.06-2.06.94zm10 10l.94 2.06.94-2.06 2.06-.94-2.06-.94-.94-2.06-.94 2.06-2.06.94z\"/><path d=\"M17.41 7.96l-1.37-1.37c-.4-.4-.92-.59-1.43-.59-.52 0-1.04.2-1.43.59L10.3 9.45l-7.72 7.72c-.78.78-.78 2.05 0 2.83L4 21.41c.39.39.9.59 1.41.59.51 0 1.02-.2 1.41-.59l7.78-7.78 2.81-2.81c.8-.78.8-2.07 0-2.86zM5.41 20L4 18.59l7.72-7.72 1.47 1.35L5.41 20z\"/>\n",
              "  </svg>\n",
              "      </button>\n",
              "      \n",
              "  <style>\n",
              "    .colab-df-container {\n",
              "      display:flex;\n",
              "      flex-wrap:wrap;\n",
              "      gap: 12px;\n",
              "    }\n",
              "\n",
              "    .colab-df-convert {\n",
              "      background-color: #E8F0FE;\n",
              "      border: none;\n",
              "      border-radius: 50%;\n",
              "      cursor: pointer;\n",
              "      display: none;\n",
              "      fill: #1967D2;\n",
              "      height: 32px;\n",
              "      padding: 0 0 0 0;\n",
              "      width: 32px;\n",
              "    }\n",
              "\n",
              "    .colab-df-convert:hover {\n",
              "      background-color: #E2EBFA;\n",
              "      box-shadow: 0px 1px 2px rgba(60, 64, 67, 0.3), 0px 1px 3px 1px rgba(60, 64, 67, 0.15);\n",
              "      fill: #174EA6;\n",
              "    }\n",
              "\n",
              "    [theme=dark] .colab-df-convert {\n",
              "      background-color: #3B4455;\n",
              "      fill: #D2E3FC;\n",
              "    }\n",
              "\n",
              "    [theme=dark] .colab-df-convert:hover {\n",
              "      background-color: #434B5C;\n",
              "      box-shadow: 0px 1px 3px 1px rgba(0, 0, 0, 0.15);\n",
              "      filter: drop-shadow(0px 1px 2px rgba(0, 0, 0, 0.3));\n",
              "      fill: #FFFFFF;\n",
              "    }\n",
              "  </style>\n",
              "\n",
              "      <script>\n",
              "        const buttonEl =\n",
              "          document.querySelector('#df-76b0386c-6104-47bf-9698-c1c5289adc28 button.colab-df-convert');\n",
              "        buttonEl.style.display =\n",
              "          google.colab.kernel.accessAllowed ? 'block' : 'none';\n",
              "\n",
              "        async function convertToInteractive(key) {\n",
              "          const element = document.querySelector('#df-76b0386c-6104-47bf-9698-c1c5289adc28');\n",
              "          const dataTable =\n",
              "            await google.colab.kernel.invokeFunction('convertToInteractive',\n",
              "                                                     [key], {});\n",
              "          if (!dataTable) return;\n",
              "\n",
              "          const docLinkHtml = 'Like what you see? Visit the ' +\n",
              "            '<a target=\"_blank\" href=https://colab.research.google.com/notebooks/data_table.ipynb>data table notebook</a>'\n",
              "            + ' to learn more about interactive tables.';\n",
              "          element.innerHTML = '';\n",
              "          dataTable['output_type'] = 'display_data';\n",
              "          await google.colab.output.renderOutput(dataTable, element);\n",
              "          const docLink = document.createElement('div');\n",
              "          docLink.innerHTML = docLinkHtml;\n",
              "          element.appendChild(docLink);\n",
              "        }\n",
              "      </script>\n",
              "    </div>\n",
              "  </div>\n",
              "  "
            ]
          },
          "metadata": {},
          "execution_count": 4
        }
      ],
      "source": [
        "pd.set_option('max_colwidth', 120)\n",
        "data"
      ]
    },
    {
      "cell_type": "code",
      "source": [
        "# переименуем названия колонок для удобства в дальнейшей работе над датафрэймом\n",
        "data = data.rename(columns = {'user rating score': 'user_rating_score', 'release year' : 'release_year'})"
      ],
      "metadata": {
        "id": "BRyqHZ042G8t"
      },
      "execution_count": 5,
      "outputs": []
    },
    {
      "cell_type": "markdown",
      "metadata": {
        "id": "cZqqAjTTjBhv"
      },
      "source": [
        "### Проверка на наличие дубликатов, их анализ и удаление."
      ]
    },
    {
      "cell_type": "code",
      "source": [
        "# создадим копию таблицы, содержащую только дубликаты\n",
        "duplicate_data = data[data.duplicated(keep = False)].copy()"
      ],
      "metadata": {
        "id": "kB0izjGa-vn5"
      },
      "execution_count": 6,
      "outputs": []
    },
    {
      "cell_type": "code",
      "execution_count": 7,
      "metadata": {
        "id": "6lWD2o02jAPr",
        "colab": {
          "base_uri": "https://localhost:8080/",
          "height": 457
        },
        "outputId": "3f4c986e-7764-420e-91c8-2f8f0a2794eb"
      },
      "outputs": [
        {
          "output_type": "execute_result",
          "data": {
            "text/plain": [
              "          title\n",
              "rating         \n",
              "TV-14       186\n",
              "PG          139\n",
              "G           119\n",
              "TV-MA        98\n",
              "TV-Y         48\n",
              "TV-PG        39\n",
              "TV-G         37\n",
              "TV-Y7-FV     30\n",
              "TV-Y7        27\n",
              "R             9\n",
              "NR            6\n",
              "PG-13         6"
            ],
            "text/html": [
              "\n",
              "  <div id=\"df-f669915e-5c8a-476c-92bf-a1e09b807b4a\">\n",
              "    <div class=\"colab-df-container\">\n",
              "      <div>\n",
              "<style scoped>\n",
              "    .dataframe tbody tr th:only-of-type {\n",
              "        vertical-align: middle;\n",
              "    }\n",
              "\n",
              "    .dataframe tbody tr th {\n",
              "        vertical-align: top;\n",
              "    }\n",
              "\n",
              "    .dataframe thead th {\n",
              "        text-align: right;\n",
              "    }\n",
              "</style>\n",
              "<table border=\"1\" class=\"dataframe\">\n",
              "  <thead>\n",
              "    <tr style=\"text-align: right;\">\n",
              "      <th></th>\n",
              "      <th>title</th>\n",
              "    </tr>\n",
              "    <tr>\n",
              "      <th>rating</th>\n",
              "      <th></th>\n",
              "    </tr>\n",
              "  </thead>\n",
              "  <tbody>\n",
              "    <tr>\n",
              "      <th>TV-14</th>\n",
              "      <td>186</td>\n",
              "    </tr>\n",
              "    <tr>\n",
              "      <th>PG</th>\n",
              "      <td>139</td>\n",
              "    </tr>\n",
              "    <tr>\n",
              "      <th>G</th>\n",
              "      <td>119</td>\n",
              "    </tr>\n",
              "    <tr>\n",
              "      <th>TV-MA</th>\n",
              "      <td>98</td>\n",
              "    </tr>\n",
              "    <tr>\n",
              "      <th>TV-Y</th>\n",
              "      <td>48</td>\n",
              "    </tr>\n",
              "    <tr>\n",
              "      <th>TV-PG</th>\n",
              "      <td>39</td>\n",
              "    </tr>\n",
              "    <tr>\n",
              "      <th>TV-G</th>\n",
              "      <td>37</td>\n",
              "    </tr>\n",
              "    <tr>\n",
              "      <th>TV-Y7-FV</th>\n",
              "      <td>30</td>\n",
              "    </tr>\n",
              "    <tr>\n",
              "      <th>TV-Y7</th>\n",
              "      <td>27</td>\n",
              "    </tr>\n",
              "    <tr>\n",
              "      <th>R</th>\n",
              "      <td>9</td>\n",
              "    </tr>\n",
              "    <tr>\n",
              "      <th>NR</th>\n",
              "      <td>6</td>\n",
              "    </tr>\n",
              "    <tr>\n",
              "      <th>PG-13</th>\n",
              "      <td>6</td>\n",
              "    </tr>\n",
              "  </tbody>\n",
              "</table>\n",
              "</div>\n",
              "      <button class=\"colab-df-convert\" onclick=\"convertToInteractive('df-f669915e-5c8a-476c-92bf-a1e09b807b4a')\"\n",
              "              title=\"Convert this dataframe to an interactive table.\"\n",
              "              style=\"display:none;\">\n",
              "        \n",
              "  <svg xmlns=\"http://www.w3.org/2000/svg\" height=\"24px\"viewBox=\"0 0 24 24\"\n",
              "       width=\"24px\">\n",
              "    <path d=\"M0 0h24v24H0V0z\" fill=\"none\"/>\n",
              "    <path d=\"M18.56 5.44l.94 2.06.94-2.06 2.06-.94-2.06-.94-.94-2.06-.94 2.06-2.06.94zm-11 1L8.5 8.5l.94-2.06 2.06-.94-2.06-.94L8.5 2.5l-.94 2.06-2.06.94zm10 10l.94 2.06.94-2.06 2.06-.94-2.06-.94-.94-2.06-.94 2.06-2.06.94z\"/><path d=\"M17.41 7.96l-1.37-1.37c-.4-.4-.92-.59-1.43-.59-.52 0-1.04.2-1.43.59L10.3 9.45l-7.72 7.72c-.78.78-.78 2.05 0 2.83L4 21.41c.39.39.9.59 1.41.59.51 0 1.02-.2 1.41-.59l7.78-7.78 2.81-2.81c.8-.78.8-2.07 0-2.86zM5.41 20L4 18.59l7.72-7.72 1.47 1.35L5.41 20z\"/>\n",
              "  </svg>\n",
              "      </button>\n",
              "      \n",
              "  <style>\n",
              "    .colab-df-container {\n",
              "      display:flex;\n",
              "      flex-wrap:wrap;\n",
              "      gap: 12px;\n",
              "    }\n",
              "\n",
              "    .colab-df-convert {\n",
              "      background-color: #E8F0FE;\n",
              "      border: none;\n",
              "      border-radius: 50%;\n",
              "      cursor: pointer;\n",
              "      display: none;\n",
              "      fill: #1967D2;\n",
              "      height: 32px;\n",
              "      padding: 0 0 0 0;\n",
              "      width: 32px;\n",
              "    }\n",
              "\n",
              "    .colab-df-convert:hover {\n",
              "      background-color: #E2EBFA;\n",
              "      box-shadow: 0px 1px 2px rgba(60, 64, 67, 0.3), 0px 1px 3px 1px rgba(60, 64, 67, 0.15);\n",
              "      fill: #174EA6;\n",
              "    }\n",
              "\n",
              "    [theme=dark] .colab-df-convert {\n",
              "      background-color: #3B4455;\n",
              "      fill: #D2E3FC;\n",
              "    }\n",
              "\n",
              "    [theme=dark] .colab-df-convert:hover {\n",
              "      background-color: #434B5C;\n",
              "      box-shadow: 0px 1px 3px 1px rgba(0, 0, 0, 0.15);\n",
              "      filter: drop-shadow(0px 1px 2px rgba(0, 0, 0, 0.3));\n",
              "      fill: #FFFFFF;\n",
              "    }\n",
              "  </style>\n",
              "\n",
              "      <script>\n",
              "        const buttonEl =\n",
              "          document.querySelector('#df-f669915e-5c8a-476c-92bf-a1e09b807b4a button.colab-df-convert');\n",
              "        buttonEl.style.display =\n",
              "          google.colab.kernel.accessAllowed ? 'block' : 'none';\n",
              "\n",
              "        async function convertToInteractive(key) {\n",
              "          const element = document.querySelector('#df-f669915e-5c8a-476c-92bf-a1e09b807b4a');\n",
              "          const dataTable =\n",
              "            await google.colab.kernel.invokeFunction('convertToInteractive',\n",
              "                                                     [key], {});\n",
              "          if (!dataTable) return;\n",
              "\n",
              "          const docLinkHtml = 'Like what you see? Visit the ' +\n",
              "            '<a target=\"_blank\" href=https://colab.research.google.com/notebooks/data_table.ipynb>data table notebook</a>'\n",
              "            + ' to learn more about interactive tables.';\n",
              "          element.innerHTML = '';\n",
              "          dataTable['output_type'] = 'display_data';\n",
              "          await google.colab.output.renderOutput(dataTable, element);\n",
              "          const docLink = document.createElement('div');\n",
              "          docLink.innerHTML = docLinkHtml;\n",
              "          element.appendChild(docLink);\n",
              "        }\n",
              "      </script>\n",
              "    </div>\n",
              "  </div>\n",
              "  "
            ]
          },
          "metadata": {},
          "execution_count": 7
        }
      ],
      "source": [
        "# найдем группу в которой больше всего дубликатов\n",
        "duplicate_data[['title', 'rating']].groupby(['rating']).count().sort_values('title', ascending = False)"
      ]
    },
    {
      "cell_type": "code",
      "source": [
        "# создидим табличку с уникальными дубликатами\n",
        "duplicate_uniq_data = duplicate_data[['title', 'rating']].copy().groupby(['title']).first()\n",
        "duplicate_uniq_data.shape\n"
      ],
      "metadata": {
        "id": "bgTK-snH39g5",
        "colab": {
          "base_uri": "https://localhost:8080/"
        },
        "outputId": "9b0a3a5b-a431-4e93-c4bc-3e1fd3f166d1"
      },
      "execution_count": 8,
      "outputs": [
        {
          "output_type": "execute_result",
          "data": {
            "text/plain": [
              "(244, 1)"
            ]
          },
          "metadata": {},
          "execution_count": 8
        }
      ]
    },
    {
      "cell_type": "code",
      "source": [
        "# и посчитаем сколько раз каждый элемент дублируется\n",
        "duplicate_uniq_data['nmb_of_dupl'] = duplicate_data.title.value_counts()\n",
        "duplicate_uniq_data = duplicate_uniq_data.sort_values('nmb_of_dupl', ascending = False)\n",
        "duplicate_uniq_data.head(10)"
      ],
      "metadata": {
        "id": "kV-5-Oyt377z",
        "colab": {
          "base_uri": "https://localhost:8080/",
          "height": 394
        },
        "outputId": "d7d24ebb-1032-42dd-8155-10ae32e97cd7"
      },
      "execution_count": 9,
      "outputs": [
        {
          "output_type": "execute_result",
          "data": {
            "text/plain": [
              "                       rating  nmb_of_dupl\n",
              "title                                     \n",
              "13 Reasons Why          TV-MA            8\n",
              "Prison Break            TV-14            7\n",
              "Girlboss                TV-MA            7\n",
              "Shameless (U.S.)        TV-MA            6\n",
              "New Girl                TV-14            6\n",
              "Anastasia                   G            6\n",
              "Grace and Frankie       TV-MA            6\n",
              "Pretty Little Liars     TV-14            6\n",
              "Grey's Anatomy          TV-14            6\n",
              "Dinotrux             TV-Y7-FV            6"
            ],
            "text/html": [
              "\n",
              "  <div id=\"df-0358685e-e8be-42aa-baf1-856bc9961356\">\n",
              "    <div class=\"colab-df-container\">\n",
              "      <div>\n",
              "<style scoped>\n",
              "    .dataframe tbody tr th:only-of-type {\n",
              "        vertical-align: middle;\n",
              "    }\n",
              "\n",
              "    .dataframe tbody tr th {\n",
              "        vertical-align: top;\n",
              "    }\n",
              "\n",
              "    .dataframe thead th {\n",
              "        text-align: right;\n",
              "    }\n",
              "</style>\n",
              "<table border=\"1\" class=\"dataframe\">\n",
              "  <thead>\n",
              "    <tr style=\"text-align: right;\">\n",
              "      <th></th>\n",
              "      <th>rating</th>\n",
              "      <th>nmb_of_dupl</th>\n",
              "    </tr>\n",
              "    <tr>\n",
              "      <th>title</th>\n",
              "      <th></th>\n",
              "      <th></th>\n",
              "    </tr>\n",
              "  </thead>\n",
              "  <tbody>\n",
              "    <tr>\n",
              "      <th>13 Reasons Why</th>\n",
              "      <td>TV-MA</td>\n",
              "      <td>8</td>\n",
              "    </tr>\n",
              "    <tr>\n",
              "      <th>Prison Break</th>\n",
              "      <td>TV-14</td>\n",
              "      <td>7</td>\n",
              "    </tr>\n",
              "    <tr>\n",
              "      <th>Girlboss</th>\n",
              "      <td>TV-MA</td>\n",
              "      <td>7</td>\n",
              "    </tr>\n",
              "    <tr>\n",
              "      <th>Shameless (U.S.)</th>\n",
              "      <td>TV-MA</td>\n",
              "      <td>6</td>\n",
              "    </tr>\n",
              "    <tr>\n",
              "      <th>New Girl</th>\n",
              "      <td>TV-14</td>\n",
              "      <td>6</td>\n",
              "    </tr>\n",
              "    <tr>\n",
              "      <th>Anastasia</th>\n",
              "      <td>G</td>\n",
              "      <td>6</td>\n",
              "    </tr>\n",
              "    <tr>\n",
              "      <th>Grace and Frankie</th>\n",
              "      <td>TV-MA</td>\n",
              "      <td>6</td>\n",
              "    </tr>\n",
              "    <tr>\n",
              "      <th>Pretty Little Liars</th>\n",
              "      <td>TV-14</td>\n",
              "      <td>6</td>\n",
              "    </tr>\n",
              "    <tr>\n",
              "      <th>Grey's Anatomy</th>\n",
              "      <td>TV-14</td>\n",
              "      <td>6</td>\n",
              "    </tr>\n",
              "    <tr>\n",
              "      <th>Dinotrux</th>\n",
              "      <td>TV-Y7-FV</td>\n",
              "      <td>6</td>\n",
              "    </tr>\n",
              "  </tbody>\n",
              "</table>\n",
              "</div>\n",
              "      <button class=\"colab-df-convert\" onclick=\"convertToInteractive('df-0358685e-e8be-42aa-baf1-856bc9961356')\"\n",
              "              title=\"Convert this dataframe to an interactive table.\"\n",
              "              style=\"display:none;\">\n",
              "        \n",
              "  <svg xmlns=\"http://www.w3.org/2000/svg\" height=\"24px\"viewBox=\"0 0 24 24\"\n",
              "       width=\"24px\">\n",
              "    <path d=\"M0 0h24v24H0V0z\" fill=\"none\"/>\n",
              "    <path d=\"M18.56 5.44l.94 2.06.94-2.06 2.06-.94-2.06-.94-.94-2.06-.94 2.06-2.06.94zm-11 1L8.5 8.5l.94-2.06 2.06-.94-2.06-.94L8.5 2.5l-.94 2.06-2.06.94zm10 10l.94 2.06.94-2.06 2.06-.94-2.06-.94-.94-2.06-.94 2.06-2.06.94z\"/><path d=\"M17.41 7.96l-1.37-1.37c-.4-.4-.92-.59-1.43-.59-.52 0-1.04.2-1.43.59L10.3 9.45l-7.72 7.72c-.78.78-.78 2.05 0 2.83L4 21.41c.39.39.9.59 1.41.59.51 0 1.02-.2 1.41-.59l7.78-7.78 2.81-2.81c.8-.78.8-2.07 0-2.86zM5.41 20L4 18.59l7.72-7.72 1.47 1.35L5.41 20z\"/>\n",
              "  </svg>\n",
              "      </button>\n",
              "      \n",
              "  <style>\n",
              "    .colab-df-container {\n",
              "      display:flex;\n",
              "      flex-wrap:wrap;\n",
              "      gap: 12px;\n",
              "    }\n",
              "\n",
              "    .colab-df-convert {\n",
              "      background-color: #E8F0FE;\n",
              "      border: none;\n",
              "      border-radius: 50%;\n",
              "      cursor: pointer;\n",
              "      display: none;\n",
              "      fill: #1967D2;\n",
              "      height: 32px;\n",
              "      padding: 0 0 0 0;\n",
              "      width: 32px;\n",
              "    }\n",
              "\n",
              "    .colab-df-convert:hover {\n",
              "      background-color: #E2EBFA;\n",
              "      box-shadow: 0px 1px 2px rgba(60, 64, 67, 0.3), 0px 1px 3px 1px rgba(60, 64, 67, 0.15);\n",
              "      fill: #174EA6;\n",
              "    }\n",
              "\n",
              "    [theme=dark] .colab-df-convert {\n",
              "      background-color: #3B4455;\n",
              "      fill: #D2E3FC;\n",
              "    }\n",
              "\n",
              "    [theme=dark] .colab-df-convert:hover {\n",
              "      background-color: #434B5C;\n",
              "      box-shadow: 0px 1px 3px 1px rgba(0, 0, 0, 0.15);\n",
              "      filter: drop-shadow(0px 1px 2px rgba(0, 0, 0, 0.3));\n",
              "      fill: #FFFFFF;\n",
              "    }\n",
              "  </style>\n",
              "\n",
              "      <script>\n",
              "        const buttonEl =\n",
              "          document.querySelector('#df-0358685e-e8be-42aa-baf1-856bc9961356 button.colab-df-convert');\n",
              "        buttonEl.style.display =\n",
              "          google.colab.kernel.accessAllowed ? 'block' : 'none';\n",
              "\n",
              "        async function convertToInteractive(key) {\n",
              "          const element = document.querySelector('#df-0358685e-e8be-42aa-baf1-856bc9961356');\n",
              "          const dataTable =\n",
              "            await google.colab.kernel.invokeFunction('convertToInteractive',\n",
              "                                                     [key], {});\n",
              "          if (!dataTable) return;\n",
              "\n",
              "          const docLinkHtml = 'Like what you see? Visit the ' +\n",
              "            '<a target=\"_blank\" href=https://colab.research.google.com/notebooks/data_table.ipynb>data table notebook</a>'\n",
              "            + ' to learn more about interactive tables.';\n",
              "          element.innerHTML = '';\n",
              "          dataTable['output_type'] = 'display_data';\n",
              "          await google.colab.output.renderOutput(dataTable, element);\n",
              "          const docLink = document.createElement('div');\n",
              "          docLink.innerHTML = docLinkHtml;\n",
              "          element.appendChild(docLink);\n",
              "        }\n",
              "      </script>\n",
              "    </div>\n",
              "  </div>\n",
              "  "
            ]
          },
          "metadata": {},
          "execution_count": 9
        }
      ]
    },
    {
      "cell_type": "code",
      "source": [
        "# и нарисуем\n",
        "duplicate_uniq_data.rating.value_counts().plot(kind='bar', color = 'red')\n",
        "plt.title('Количество уникальных дубликатов в разных группах', size = 18)\n",
        "plt.ylabel('Количество фильмов', size = 14)\n",
        "plt.xlabel('Названия групп', size = 14)\n",
        "print()"
      ],
      "metadata": {
        "colab": {
          "base_uri": "https://localhost:8080/",
          "height": 354
        },
        "id": "dQaGKF4BJtiz",
        "outputId": "2411d902-44c2-4b40-c8d0-5d47991389ee"
      },
      "execution_count": 10,
      "outputs": [
        {
          "output_type": "stream",
          "name": "stdout",
          "text": [
            "\n"
          ]
        },
        {
          "output_type": "display_data",
          "data": {
            "text/plain": [
              "<Figure size 432x288 with 1 Axes>"
            ],
            "image/png": "[encoded data removed]"
          },
          "metadata": {
            "needs_background": "light"
          }
        }
      ]
    },
    {
      "cell_type": "code",
      "source": [
        "# теперь уберем все полные дубликаты из таблички, так как они не имеют смысла\n",
        "data_without_dupl = data.drop_duplicates().copy()\n",
        "data_without_dupl"
      ],
      "metadata": {
        "colab": {
          "base_uri": "https://localhost:8080/",
          "height": 424
        },
        "id": "IR3SY7pv3XvH",
        "outputId": "18da83cd-fead-419c-c776-2f132d384989"
      },
      "execution_count": 12,
      "outputs": [
        {
          "output_type": "execute_result",
          "data": {
            "text/plain": [
              "                         title rating  \\\n",
              "0                 White Chicks  PG-13   \n",
              "1          Lucky Number Slevin      R   \n",
              "2               Grey's Anatomy  TV-14   \n",
              "3                 Prison Break  TV-14   \n",
              "4        How I Met Your Mother  TV-PG   \n",
              "..                         ...    ...   \n",
              "989            Russell Madness     PG   \n",
              "993  Wiener Dog Internationals      G   \n",
              "994                   Pup Star      G   \n",
              "997           Precious Puppies   TV-G   \n",
              "998                Beary Tales   TV-G   \n",
              "\n",
              "                                                                       ratingLevel  \\\n",
              "0                           crude and sexual humor, language and some drug content   \n",
              "1                               strong violence, sexual content and adult language   \n",
              "2    Parents strongly cautioned. May be unsuitable for children ages 14 and under.   \n",
              "3    Parents strongly cautioned. May be unsuitable for children ages 14 and under.   \n",
              "4               Parental guidance suggested. May not be suitable for all children.   \n",
              "..                                                                             ...   \n",
              "989                                              some rude humor and sports action   \n",
              "993                                      General Audiences. Suitable for all ages.   \n",
              "994                                      General Audiences. Suitable for all ages.   \n",
              "997                                                         Suitable for all ages.   \n",
              "998                                                         Suitable for all ages.   \n",
              "\n",
              "     release_year  user_rating_score  \n",
              "0            2004               82.0  \n",
              "1            2006                NaN  \n",
              "2            2016               98.0  \n",
              "3            2008               98.0  \n",
              "4            2014               94.0  \n",
              "..            ...                ...  \n",
              "989          2015                NaN  \n",
              "993          2015                NaN  \n",
              "994          2016                NaN  \n",
              "997          2003                NaN  \n",
              "998          2013                NaN  \n",
              "\n",
              "[500 rows x 5 columns]"
            ],
            "text/html": [
              "\n",
              "  <div id=\"df-8e446dc8-c5e0-4563-b24e-91230ae62388\">\n",
              "    <div class=\"colab-df-container\">\n",
              "      <div>\n",
              "<style scoped>\n",
              "    .dataframe tbody tr th:only-of-type {\n",
              "        vertical-align: middle;\n",
              "    }\n",
              "\n",
              "    .dataframe tbody tr th {\n",
              "        vertical-align: top;\n",
              "    }\n",
              "\n",
              "    .dataframe thead th {\n",
              "        text-align: right;\n",
              "    }\n",
              "</style>\n",
              "<table border=\"1\" class=\"dataframe\">\n",
              "  <thead>\n",
              "    <tr style=\"text-align: right;\">\n",
              "      <th></th>\n",
              "      <th>title</th>\n",
              "      <th>rating</th>\n",
              "      <th>ratingLevel</th>\n",
              "      <th>release_year</th>\n",
              "      <th>user_rating_score</th>\n",
              "    </tr>\n",
              "  </thead>\n",
              "  <tbody>\n",
              "    <tr>\n",
              "      <th>0</th>\n",
              "      <td>White Chicks</td>\n",
              "      <td>PG-13</td>\n",
              "      <td>crude and sexual humor, language and some drug content</td>\n",
              "      <td>2004</td>\n",
              "      <td>82.0</td>\n",
              "    </tr>\n",
              "    <tr>\n",
              "      <th>1</th>\n",
              "      <td>Lucky Number Slevin</td>\n",
              "      <td>R</td>\n",
              "      <td>strong violence, sexual content and adult language</td>\n",
              "      <td>2006</td>\n",
              "      <td>NaN</td>\n",
              "    </tr>\n",
              "    <tr>\n",
              "      <th>2</th>\n",
              "      <td>Grey's Anatomy</td>\n",
              "      <td>TV-14</td>\n",
              "      <td>Parents strongly cautioned. May be unsuitable for children ages 14 and under.</td>\n",
              "      <td>2016</td>\n",
              "      <td>98.0</td>\n",
              "    </tr>\n",
              "    <tr>\n",
              "      <th>3</th>\n",
              "      <td>Prison Break</td>\n",
              "      <td>TV-14</td>\n",
              "      <td>Parents strongly cautioned. May be unsuitable for children ages 14 and under.</td>\n",
              "      <td>2008</td>\n",
              "      <td>98.0</td>\n",
              "    </tr>\n",
              "    <tr>\n",
              "      <th>4</th>\n",
              "      <td>How I Met Your Mother</td>\n",
              "      <td>TV-PG</td>\n",
              "      <td>Parental guidance suggested. May not be suitable for all children.</td>\n",
              "      <td>2014</td>\n",
              "      <td>94.0</td>\n",
              "    </tr>\n",
              "    <tr>\n",
              "      <th>...</th>\n",
              "      <td>...</td>\n",
              "      <td>...</td>\n",
              "      <td>...</td>\n",
              "      <td>...</td>\n",
              "      <td>...</td>\n",
              "    </tr>\n",
              "    <tr>\n",
              "      <th>989</th>\n",
              "      <td>Russell Madness</td>\n",
              "      <td>PG</td>\n",
              "      <td>some rude humor and sports action</td>\n",
              "      <td>2015</td>\n",
              "      <td>NaN</td>\n",
              "    </tr>\n",
              "    <tr>\n",
              "      <th>993</th>\n",
              "      <td>Wiener Dog Internationals</td>\n",
              "      <td>G</td>\n",
              "      <td>General Audiences. Suitable for all ages.</td>\n",
              "      <td>2015</td>\n",
              "      <td>NaN</td>\n",
              "    </tr>\n",
              "    <tr>\n",
              "      <th>994</th>\n",
              "      <td>Pup Star</td>\n",
              "      <td>G</td>\n",
              "      <td>General Audiences. Suitable for all ages.</td>\n",
              "      <td>2016</td>\n",
              "      <td>NaN</td>\n",
              "    </tr>\n",
              "    <tr>\n",
              "      <th>997</th>\n",
              "      <td>Precious Puppies</td>\n",
              "      <td>TV-G</td>\n",
              "      <td>Suitable for all ages.</td>\n",
              "      <td>2003</td>\n",
              "      <td>NaN</td>\n",
              "    </tr>\n",
              "    <tr>\n",
              "      <th>998</th>\n",
              "      <td>Beary Tales</td>\n",
              "      <td>TV-G</td>\n",
              "      <td>Suitable for all ages.</td>\n",
              "      <td>2013</td>\n",
              "      <td>NaN</td>\n",
              "    </tr>\n",
              "  </tbody>\n",
              "</table>\n",
              "<p>500 rows × 5 columns</p>\n",
              "</div>\n",
              "      <button class=\"colab-df-convert\" onclick=\"convertToInteractive('df-8e446dc8-c5e0-4563-b24e-91230ae62388')\"\n",
              "              title=\"Convert this dataframe to an interactive table.\"\n",
              "              style=\"display:none;\">\n",
              "        \n",
              "  <svg xmlns=\"http://www.w3.org/2000/svg\" height=\"24px\"viewBox=\"0 0 24 24\"\n",
              "       width=\"24px\">\n",
              "    <path d=\"M0 0h24v24H0V0z\" fill=\"none\"/>\n",
              "    <path d=\"M18.56 5.44l.94 2.06.94-2.06 2.06-.94-2.06-.94-.94-2.06-.94 2.06-2.06.94zm-11 1L8.5 8.5l.94-2.06 2.06-.94-2.06-.94L8.5 2.5l-.94 2.06-2.06.94zm10 10l.94 2.06.94-2.06 2.06-.94-2.06-.94-.94-2.06-.94 2.06-2.06.94z\"/><path d=\"M17.41 7.96l-1.37-1.37c-.4-.4-.92-.59-1.43-.59-.52 0-1.04.2-1.43.59L10.3 9.45l-7.72 7.72c-.78.78-.78 2.05 0 2.83L4 21.41c.39.39.9.59 1.41.59.51 0 1.02-.2 1.41-.59l7.78-7.78 2.81-2.81c.8-.78.8-2.07 0-2.86zM5.41 20L4 18.59l7.72-7.72 1.47 1.35L5.41 20z\"/>\n",
              "  </svg>\n",
              "      </button>\n",
              "      \n",
              "  <style>\n",
              "    .colab-df-container {\n",
              "      display:flex;\n",
              "      flex-wrap:wrap;\n",
              "      gap: 12px;\n",
              "    }\n",
              "\n",
              "    .colab-df-convert {\n",
              "      background-color: #E8F0FE;\n",
              "      border: none;\n",
              "      border-radius: 50%;\n",
              "      cursor: pointer;\n",
              "      display: none;\n",
              "      fill: #1967D2;\n",
              "      height: 32px;\n",
              "      padding: 0 0 0 0;\n",
              "      width: 32px;\n",
              "    }\n",
              "\n",
              "    .colab-df-convert:hover {\n",
              "      background-color: #E2EBFA;\n",
              "      box-shadow: 0px 1px 2px rgba(60, 64, 67, 0.3), 0px 1px 3px 1px rgba(60, 64, 67, 0.15);\n",
              "      fill: #174EA6;\n",
              "    }\n",
              "\n",
              "    [theme=dark] .colab-df-convert {\n",
              "      background-color: #3B4455;\n",
              "      fill: #D2E3FC;\n",
              "    }\n",
              "\n",
              "    [theme=dark] .colab-df-convert:hover {\n",
              "      background-color: #434B5C;\n",
              "      box-shadow: 0px 1px 3px 1px rgba(0, 0, 0, 0.15);\n",
              "      filter: drop-shadow(0px 1px 2px rgba(0, 0, 0, 0.3));\n",
              "      fill: #FFFFFF;\n",
              "    }\n",
              "  </style>\n",
              "\n",
              "      <script>\n",
              "        const buttonEl =\n",
              "          document.querySelector('#df-8e446dc8-c5e0-4563-b24e-91230ae62388 button.colab-df-convert');\n",
              "        buttonEl.style.display =\n",
              "          google.colab.kernel.accessAllowed ? 'block' : 'none';\n",
              "\n",
              "        async function convertToInteractive(key) {\n",
              "          const element = document.querySelector('#df-8e446dc8-c5e0-4563-b24e-91230ae62388');\n",
              "          const dataTable =\n",
              "            await google.colab.kernel.invokeFunction('convertToInteractive',\n",
              "                                                     [key], {});\n",
              "          if (!dataTable) return;\n",
              "\n",
              "          const docLinkHtml = 'Like what you see? Visit the ' +\n",
              "            '<a target=\"_blank\" href=https://colab.research.google.com/notebooks/data_table.ipynb>data table notebook</a>'\n",
              "            + ' to learn more about interactive tables.';\n",
              "          element.innerHTML = '';\n",
              "          dataTable['output_type'] = 'display_data';\n",
              "          await google.colab.output.renderOutput(dataTable, element);\n",
              "          const docLink = document.createElement('div');\n",
              "          docLink.innerHTML = docLinkHtml;\n",
              "          element.appendChild(docLink);\n",
              "        }\n",
              "      </script>\n",
              "    </div>\n",
              "  </div>\n",
              "  "
            ]
          },
          "metadata": {},
          "execution_count": 12
        }
      ]
    },
    {
      "cell_type": "code",
      "source": [
        "# в уже очищенной от дубликатов табличке есть фильмы с одинаковым названием, но они полными дубликатами не являются\n",
        "pd.set_option('max_colwidth', 120)\n",
        "repeats = data_without_dupl[data_without_dupl.duplicated(subset=['title'], keep = False)].sort_values(['title']).copy()\n",
        "repeats"
      ],
      "metadata": {
        "id": "mMGDspl-21Ed",
        "colab": {
          "base_uri": "https://localhost:8080/",
          "height": 300
        },
        "outputId": "1b47ee94-75c5-4373-fa2f-79a84810714e"
      },
      "execution_count": 14,
      "outputs": [
        {
          "output_type": "execute_result",
          "data": {
            "text/plain": [
              "                         title rating  \\\n",
              "167                 Bordertown  TV-14   \n",
              "449                 Bordertown  TV-MA   \n",
              "568                 Goosebumps  TV-Y7   \n",
              "632                 Goosebumps     PG   \n",
              "151                      Skins  TV-MA   \n",
              "181                      Skins  TV-MA   \n",
              "504  Star Wars: The Clone Wars     PG   \n",
              "512  Star Wars: The Clone Wars  TV-PG   \n",
              "\n",
              "                                                                       ratingLevel  \\\n",
              "167  Parents strongly cautioned. May be unsuitable for children ages 14 and under.   \n",
              "449          For mature audiences.  May not be suitable for children 17 and under.   \n",
              "568                                         Suitable for children ages 7 and older   \n",
              "632          scary and intense creature action and images, and for some rude humor   \n",
              "151          For mature audiences.  May not be suitable for children 17 and under.   \n",
              "181                                                                            NaN   \n",
              "504        sci-fi action violence throughout, brief language and momentary smoking   \n",
              "512             Parental guidance suggested. May not be suitable for all children.   \n",
              "\n",
              "     release_year  user_rating_score  \n",
              "167          2016               86.0  \n",
              "449          2016                NaN  \n",
              "568          1998               88.0  \n",
              "632          2015               90.0  \n",
              "151          2013                NaN  \n",
              "181          2017                NaN  \n",
              "504          2008               57.0  \n",
              "512          2014               93.0  "
            ],
            "text/html": [
              "\n",
              "  <div id=\"df-fc2cd3c7-8ecf-4191-96b2-4be038f6dac9\">\n",
              "    <div class=\"colab-df-container\">\n",
              "      <div>\n",
              "<style scoped>\n",
              "    .dataframe tbody tr th:only-of-type {\n",
              "        vertical-align: middle;\n",
              "    }\n",
              "\n",
              "    .dataframe tbody tr th {\n",
              "        vertical-align: top;\n",
              "    }\n",
              "\n",
              "    .dataframe thead th {\n",
              "        text-align: right;\n",
              "    }\n",
              "</style>\n",
              "<table border=\"1\" class=\"dataframe\">\n",
              "  <thead>\n",
              "    <tr style=\"text-align: right;\">\n",
              "      <th></th>\n",
              "      <th>title</th>\n",
              "      <th>rating</th>\n",
              "      <th>ratingLevel</th>\n",
              "      <th>release_year</th>\n",
              "      <th>user_rating_score</th>\n",
              "    </tr>\n",
              "  </thead>\n",
              "  <tbody>\n",
              "    <tr>\n",
              "      <th>167</th>\n",
              "      <td>Bordertown</td>\n",
              "      <td>TV-14</td>\n",
              "      <td>Parents strongly cautioned. May be unsuitable for children ages 14 and under.</td>\n",
              "      <td>2016</td>\n",
              "      <td>86.0</td>\n",
              "    </tr>\n",
              "    <tr>\n",
              "      <th>449</th>\n",
              "      <td>Bordertown</td>\n",
              "      <td>TV-MA</td>\n",
              "      <td>For mature audiences.  May not be suitable for children 17 and under.</td>\n",
              "      <td>2016</td>\n",
              "      <td>NaN</td>\n",
              "    </tr>\n",
              "    <tr>\n",
              "      <th>568</th>\n",
              "      <td>Goosebumps</td>\n",
              "      <td>TV-Y7</td>\n",
              "      <td>Suitable for children ages 7 and older</td>\n",
              "      <td>1998</td>\n",
              "      <td>88.0</td>\n",
              "    </tr>\n",
              "    <tr>\n",
              "      <th>632</th>\n",
              "      <td>Goosebumps</td>\n",
              "      <td>PG</td>\n",
              "      <td>scary and intense creature action and images, and for some rude humor</td>\n",
              "      <td>2015</td>\n",
              "      <td>90.0</td>\n",
              "    </tr>\n",
              "    <tr>\n",
              "      <th>151</th>\n",
              "      <td>Skins</td>\n",
              "      <td>TV-MA</td>\n",
              "      <td>For mature audiences.  May not be suitable for children 17 and under.</td>\n",
              "      <td>2013</td>\n",
              "      <td>NaN</td>\n",
              "    </tr>\n",
              "    <tr>\n",
              "      <th>181</th>\n",
              "      <td>Skins</td>\n",
              "      <td>TV-MA</td>\n",
              "      <td>NaN</td>\n",
              "      <td>2017</td>\n",
              "      <td>NaN</td>\n",
              "    </tr>\n",
              "    <tr>\n",
              "      <th>504</th>\n",
              "      <td>Star Wars: The Clone Wars</td>\n",
              "      <td>PG</td>\n",
              "      <td>sci-fi action violence throughout, brief language and momentary smoking</td>\n",
              "      <td>2008</td>\n",
              "      <td>57.0</td>\n",
              "    </tr>\n",
              "    <tr>\n",
              "      <th>512</th>\n",
              "      <td>Star Wars: The Clone Wars</td>\n",
              "      <td>TV-PG</td>\n",
              "      <td>Parental guidance suggested. May not be suitable for all children.</td>\n",
              "      <td>2014</td>\n",
              "      <td>93.0</td>\n",
              "    </tr>\n",
              "  </tbody>\n",
              "</table>\n",
              "</div>\n",
              "      <button class=\"colab-df-convert\" onclick=\"convertToInteractive('df-fc2cd3c7-8ecf-4191-96b2-4be038f6dac9')\"\n",
              "              title=\"Convert this dataframe to an interactive table.\"\n",
              "              style=\"display:none;\">\n",
              "        \n",
              "  <svg xmlns=\"http://www.w3.org/2000/svg\" height=\"24px\"viewBox=\"0 0 24 24\"\n",
              "       width=\"24px\">\n",
              "    <path d=\"M0 0h24v24H0V0z\" fill=\"none\"/>\n",
              "    <path d=\"M18.56 5.44l.94 2.06.94-2.06 2.06-.94-2.06-.94-.94-2.06-.94 2.06-2.06.94zm-11 1L8.5 8.5l.94-2.06 2.06-.94-2.06-.94L8.5 2.5l-.94 2.06-2.06.94zm10 10l.94 2.06.94-2.06 2.06-.94-2.06-.94-.94-2.06-.94 2.06-2.06.94z\"/><path d=\"M17.41 7.96l-1.37-1.37c-.4-.4-.92-.59-1.43-.59-.52 0-1.04.2-1.43.59L10.3 9.45l-7.72 7.72c-.78.78-.78 2.05 0 2.83L4 21.41c.39.39.9.59 1.41.59.51 0 1.02-.2 1.41-.59l7.78-7.78 2.81-2.81c.8-.78.8-2.07 0-2.86zM5.41 20L4 18.59l7.72-7.72 1.47 1.35L5.41 20z\"/>\n",
              "  </svg>\n",
              "      </button>\n",
              "      \n",
              "  <style>\n",
              "    .colab-df-container {\n",
              "      display:flex;\n",
              "      flex-wrap:wrap;\n",
              "      gap: 12px;\n",
              "    }\n",
              "\n",
              "    .colab-df-convert {\n",
              "      background-color: #E8F0FE;\n",
              "      border: none;\n",
              "      border-radius: 50%;\n",
              "      cursor: pointer;\n",
              "      display: none;\n",
              "      fill: #1967D2;\n",
              "      height: 32px;\n",
              "      padding: 0 0 0 0;\n",
              "      width: 32px;\n",
              "    }\n",
              "\n",
              "    .colab-df-convert:hover {\n",
              "      background-color: #E2EBFA;\n",
              "      box-shadow: 0px 1px 2px rgba(60, 64, 67, 0.3), 0px 1px 3px 1px rgba(60, 64, 67, 0.15);\n",
              "      fill: #174EA6;\n",
              "    }\n",
              "\n",
              "    [theme=dark] .colab-df-convert {\n",
              "      background-color: #3B4455;\n",
              "      fill: #D2E3FC;\n",
              "    }\n",
              "\n",
              "    [theme=dark] .colab-df-convert:hover {\n",
              "      background-color: #434B5C;\n",
              "      box-shadow: 0px 1px 3px 1px rgba(0, 0, 0, 0.15);\n",
              "      filter: drop-shadow(0px 1px 2px rgba(0, 0, 0, 0.3));\n",
              "      fill: #FFFFFF;\n",
              "    }\n",
              "  </style>\n",
              "\n",
              "      <script>\n",
              "        const buttonEl =\n",
              "          document.querySelector('#df-fc2cd3c7-8ecf-4191-96b2-4be038f6dac9 button.colab-df-convert');\n",
              "        buttonEl.style.display =\n",
              "          google.colab.kernel.accessAllowed ? 'block' : 'none';\n",
              "\n",
              "        async function convertToInteractive(key) {\n",
              "          const element = document.querySelector('#df-fc2cd3c7-8ecf-4191-96b2-4be038f6dac9');\n",
              "          const dataTable =\n",
              "            await google.colab.kernel.invokeFunction('convertToInteractive',\n",
              "                                                     [key], {});\n",
              "          if (!dataTable) return;\n",
              "\n",
              "          const docLinkHtml = 'Like what you see? Visit the ' +\n",
              "            '<a target=\"_blank\" href=https://colab.research.google.com/notebooks/data_table.ipynb>data table notebook</a>'\n",
              "            + ' to learn more about interactive tables.';\n",
              "          element.innerHTML = '';\n",
              "          dataTable['output_type'] = 'display_data';\n",
              "          await google.colab.output.renderOutput(dataTable, element);\n",
              "          const docLink = document.createElement('div');\n",
              "          docLink.innerHTML = docLinkHtml;\n",
              "          element.appendChild(docLink);\n",
              "        }\n",
              "      </script>\n",
              "    </div>\n",
              "  </div>\n",
              "  "
            ]
          },
          "metadata": {},
          "execution_count": 14
        }
      ]
    },
    {
      "cell_type": "markdown",
      "metadata": {
        "id": "5K45orMVgn0S"
      },
      "source": [
        "### Сколько рейтинговых групп представлено в данных?"
      ]
    },
    {
      "cell_type": "code",
      "execution_count": 15,
      "metadata": {
        "id": "ya6irA3YgoSN",
        "colab": {
          "base_uri": "https://localhost:8080/"
        },
        "outputId": "93e7e4e9-7809-4574-c102-8e2dfce5aeb9"
      },
      "outputs": [
        {
          "output_type": "stream",
          "name": "stdout",
          "text": [
            "Количество рейтинговых групп: 13\n"
          ]
        }
      ],
      "source": [
        "# посчитаем количество уникальных названий рейтингов\n",
        "print(f'Количество рейтинговых групп: {data[\"rating\"].nunique()}')"
      ]
    },
    {
      "cell_type": "code",
      "source": [
        "# и нарисуем\n",
        "data_without_dupl[['title', 'rating']].groupby(['rating']).count().sort_values(['title']).plot(kind='barh', color = 'red', legend=False, figsize=(8, 8))\n",
        "plt.title('Общее количество фильмов в разных группах', size = 18)\n",
        "plt.xlabel('Количество фильмов', size = 14)\n",
        "plt.ylabel('Названия групп', size = 14)\n",
        "print()"
      ],
      "metadata": {
        "id": "gyO-qdelRkFT",
        "colab": {
          "base_uri": "https://localhost:8080/",
          "height": 538
        },
        "outputId": "dd4262cc-40a0-4a27-bf4d-64d59ae68810"
      },
      "execution_count": 16,
      "outputs": [
        {
          "output_type": "stream",
          "name": "stdout",
          "text": [
            "\n"
          ]
        },
        {
          "output_type": "display_data",
          "data": {
            "text/plain": [
              "<Figure size 576x576 with 1 Axes>"
            ],
            "image/png": "[encoded data removed]"
          },
          "metadata": {
            "needs_background": "light"
          }
        }
      ]
    },
    {
      "cell_type": "code",
      "source": [
        "plt.figure(figsize=(8, 8))\n",
        "nmb_appear = data_without_dupl[['title', 'rating']].groupby(['rating']).count().sort_values(['title'], ascending = False)\n",
        "plt.pie(np.array(nmb_appear).ravel(), labels = nmb_appear.index, autopct = '%1.1f%%')\n",
        "plt.title('Распределение шоу по реитинговым группам', size = 18)\n",
        "print()"
      ],
      "metadata": {
        "colab": {
          "base_uri": "https://localhost:8080/",
          "height": 503
        },
        "id": "SbXToe50rK7N",
        "outputId": "c8518de0-a202-4ab4-8ab1-313beeb5fe73"
      },
      "execution_count": null,
      "outputs": [
        {
          "output_type": "stream",
          "name": "stdout",
          "text": [
            "\n"
          ]
        },
        {
          "output_type": "display_data",
          "data": {
            "text/plain": [
              "<Figure size 576x576 with 1 Axes>"
            ],
            "image/png": "[encoded data removed]"
          },
          "metadata": {}
        }
      ]
    },
    {
      "cell_type": "markdown",
      "metadata": {
        "id": "EvQXQnogU8M0"
      },
      "source": [
        "### Какие оценки пользователи ставят чаще?\n"
      ]
    },
    {
      "cell_type": "code",
      "source": [
        "# посчитаем шоу без оценки\n",
        "print(f'Всего неоцененных фильмов {data_without_dupl[\"user_rating_score\"].isna().sum()} из {len(data_without_dupl[\"user_rating_score\"])}')"
      ],
      "metadata": {
        "colab": {
          "base_uri": "https://localhost:8080/"
        },
        "id": "tQULD5zOUYnV",
        "outputId": "46af2cc6-7386-4f30-f3bf-980acd375c2f"
      },
      "execution_count": 17,
      "outputs": [
        {
          "output_type": "stream",
          "name": "stdout",
          "text": [
            "Всего неоцененных фильмов 244 из 500\n"
          ]
        }
      ]
    },
    {
      "cell_type": "code",
      "source": [
        "# посмотрим на гистограмму распределения оценок\n",
        "plt.figure(figsize=(10,5))\n",
        "plt.hist(data_without_dupl['user_rating_score'], bins = 'auto', color = '#BD1C1C', ec = 'black')\n",
        "plt.title('Распределение оценок пользователей', size = 18)\n",
        "plt.ylabel('Количество оценок', size = 14)\n",
        "plt.xlabel('Оценка', size = 14)\n",
        "print()"
      ],
      "metadata": {
        "colab": {
          "base_uri": "https://localhost:8080/",
          "height": 375
        },
        "id": "TEYIl8ZElC6O",
        "outputId": "f94e933f-5877-4ebb-c106-d67d56e3e1e9"
      },
      "execution_count": 18,
      "outputs": [
        {
          "output_type": "stream",
          "name": "stdout",
          "text": [
            "\n"
          ]
        },
        {
          "output_type": "display_data",
          "data": {
            "text/plain": [
              "<Figure size 720x360 with 1 Axes>"
            ],
            "image/png": "[encoded data removed]"
          },
          "metadata": {
            "needs_background": "light"
          }
        }
      ]
    },
    {
      "cell_type": "code",
      "source": [
        "# разобьем оценки фильмов на 5 групп по 10 значений в каждой\n",
        "d = {'51-60': 0, '61-70': 0, '71-80': 0, '81-90': 0, '91-100': 0}\n",
        "for i in data_without_dupl.user_rating_score:\n",
        "  if 60 >= i >=51:\n",
        "    d['51-60'] +=1\n",
        "  elif 70 >= i >=61:\n",
        "    d['61-70'] +=1\n",
        "  elif 80 >= i >=71:\n",
        "    d['71-80'] +=1\n",
        "  elif 90 >= i >=81:\n",
        "    d['81-90'] +=1\n",
        "  elif 100 >= i >=91:\n",
        "    d['91-100'] +=1"
      ],
      "metadata": {
        "id": "N6bpO0RFixBA"
      },
      "execution_count": 19,
      "outputs": []
    },
    {
      "cell_type": "code",
      "source": [
        "range_rating = pd.DataFrame([d]).transpose().rename(columns = {0: 'quantity'}).sort_index(ascending = False)\n",
        "clrs = ['#990000', '#FF0000', '#FF3333', '#FF6666', '#FF9999']\n",
        "plt.pie(np.array(range_rating).ravel(), labels = range_rating.index, autopct = '%1.1f%%', colors = clrs, explode = (0.1, 0.0, 0.0, 0.0, 0.0))\n",
        "plt.title('Наиболее часто встречаемые оценки', size = 18)\n",
        "print()"
      ],
      "metadata": {
        "colab": {
          "base_uri": "https://localhost:8080/",
          "height": 286
        },
        "id": "UNZt7Qqhy4gR",
        "outputId": "bb3382d5-dc5b-4b1a-bdf0-cea28b72b70a"
      },
      "execution_count": 20,
      "outputs": [
        {
          "output_type": "stream",
          "name": "stdout",
          "text": [
            "\n"
          ]
        },
        {
          "output_type": "display_data",
          "data": {
            "text/plain": [
              "<Figure size 432x288 with 1 Axes>"
            ],
            "image/png": "[encoded data removed]"
          },
          "metadata": {}
        }
      ]
    },
    {
      "cell_type": "code",
      "execution_count": 21,
      "metadata": {
        "id": "duGOR-wEnMS7",
        "colab": {
          "base_uri": "https://localhost:8080/"
        },
        "outputId": "4524ba71-a4d1-499d-cc36-7c260ffb4b8f"
      },
      "outputs": [
        {
          "output_type": "stream",
          "name": "stdout",
          "text": [
            "Средняя оценка пользователей:  81.40\n",
            "Медианная оценка пользователей:  83.50\n",
            "Максимальная оценка пользователей:  99.00\n",
            "Минимальная оценка пользователей:  55.00\n",
            "Стандартное отклонение:  12.73\n"
          ]
        }
      ],
      "source": [
        "# информация об оценках пользователей \n",
        "print(f'Средняя оценка пользователей: {data_without_dupl[\"user_rating_score\"].mean() : .2f}')\n",
        "print(f'Медианная оценка пользователей: {data_without_dupl[\"user_rating_score\"].median() : .2f}')\n",
        "print(f'Максимальная оценка пользователей: {data_without_dupl[\"user_rating_score\"].max() : .2f}')\n",
        "print(f'Минимальная оценка пользователей: {data_without_dupl[\"user_rating_score\"].min() : .2f}')\n",
        "print(f'Стандартное отклонение: {data_without_dupl[\"user_rating_score\"].std() : .2f}')"
      ]
    },
    {
      "cell_type": "code",
      "source": [
        "# нарисуем график плотности оценок\n",
        "data_without_dupl['user_rating_score'].plot.kde(color = '#BD1C1C', linewidth= 3,figsize=(10, 6))\n",
        "plt.ylabel('Плотность оценок', size = 14)\n",
        "plt.xlabel('Оценка', size = 14)\n",
        "plt.title('График плотности оценок', size = 18)\n",
        "plt.axvline(x = 81.4, ymax = 0.725, color=\"blue\", linestyle=\"-\")\n",
        "plt.axvline(x = 83.5, ymax = 0.755, color=\"green\", linestyle=\"-\")\n",
        "plt.text(71.5, 0, 'Среднее', color=\"blue\", fontsize=12)\n",
        "plt.text(84, 0, 'Медиана', color=\"green\", fontsize=12)\n",
        "print()"
      ],
      "metadata": {
        "id": "OIlq-ft4RuUy",
        "colab": {
          "base_uri": "https://localhost:8080/",
          "height": 429
        },
        "outputId": "06a6e428-c18b-405f-c6c4-a99f654c2598"
      },
      "execution_count": 22,
      "outputs": [
        {
          "output_type": "stream",
          "name": "stdout",
          "text": [
            "\n"
          ]
        },
        {
          "output_type": "display_data",
          "data": {
            "text/plain": [
              "<Figure size 720x432 with 1 Axes>"
            ],
            "image/png": "[encoded data removed]"
          },
          "metadata": {
            "needs_background": "light"
          }
        }
      ]
    },
    {
      "cell_type": "markdown",
      "metadata": {
        "id": "o-R-GlguhFVj"
      },
      "source": [
        "### В какие годы были запущены шоу, представленные в датасете?"
      ]
    },
    {
      "cell_type": "code",
      "source": [
        "first_year = data['release_year'].min()\n",
        "last_year = data['release_year'].max()\n",
        "print(f'Год запуска первого шоу: {first_year}')\n",
        "print(f'Год запуска последнего шоу: {last_year}')\n",
        "print(f'Все годы: {data[\"release_year\"].sort_values().unique()}')"
      ],
      "metadata": {
        "colab": {
          "base_uri": "https://localhost:8080/"
        },
        "id": "z0svdE6pDtpR",
        "outputId": "d582dd62-8398-4b4c-9cfd-412ca6bd8142"
      },
      "execution_count": 23,
      "outputs": [
        {
          "output_type": "stream",
          "name": "stdout",
          "text": [
            "Год запуска первого шоу: 1940\n",
            "Год запуска последнего шоу: 2017\n",
            "Все годы: [1940 1976 1978 1982 1986 1987 1989 1990 1991 1992 1993 1994 1995 1996\n",
            " 1997 1998 1999 2000 2001 2002 2003 2004 2005 2006 2007 2008 2009 2010\n",
            " 2011 2012 2013 2014 2015 2016 2017]\n"
          ]
        }
      ]
    },
    {
      "cell_type": "code",
      "source": [
        "# построим график, показывающий распределение количества запущенных шоу в зависимости от года\n",
        "year = [i for i in range(first_year, last_year+1)]\n",
        "count = []\n",
        "for i in year:\n",
        "  c = data_without_dupl.loc[(data_without_dupl.release_year == i)].title.count()\n",
        "  count.append(c)"
      ],
      "metadata": {
        "id": "H2suJti1Djp8"
      },
      "execution_count": 24,
      "outputs": []
    },
    {
      "cell_type": "code",
      "execution_count": 25,
      "metadata": {
        "id": "ecreMlHXigV6",
        "colab": {
          "base_uri": "https://localhost:8080/",
          "height": 435
        },
        "outputId": "1b1c5d61-cc5d-4c9e-f00b-b25b917b2c64"
      },
      "outputs": [
        {
          "output_type": "stream",
          "name": "stdout",
          "text": [
            "\n"
          ]
        },
        {
          "output_type": "display_data",
          "data": {
            "text/plain": [
              "<Figure size 648x432 with 1 Axes>"
            ],
            "image/png": "[encoded data removed]"
          },
          "metadata": {
            "needs_background": "light"
          }
        }
      ],
      "source": [
        "plt.figure(figsize=(9,6))\n",
        "plt.plot(year, count, color = '#BD1C1C', linewidth= 3)\n",
        "plt.title('График количества запущенных шоу', size = 22)\n",
        "plt.xlabel('год', size = 18)\n",
        "plt.ylabel('количество шоу', size = 18)\n",
        "print()\n"
      ]
    },
    {
      "cell_type": "code",
      "source": [
        "# 2016 количество фильмов в 2016 году похоже на явный выброс, посмотрим на них\n",
        "# но если посмотреть информацию в интернете, в этом году Netflix приобрел права на показ многих фильмов и, возможно, вместо даты релиза ошибочно указана дата появления их именно в библиотеке Netflix\n",
        "data_without_dupl[(data_without_dupl.release_year == 2016)]"
      ],
      "metadata": {
        "colab": {
          "base_uri": "https://localhost:8080/",
          "height": 424
        },
        "id": "M9ijWXPvRou3",
        "outputId": "f0e68c8e-cb7c-4476-a633-a14061ca5728"
      },
      "execution_count": 26,
      "outputs": [
        {
          "output_type": "execute_result",
          "data": {
            "text/plain": [
              "                                         title rating  \\\n",
              "2                               Grey's Anatomy  TV-14   \n",
              "5                                 Supernatural  TV-14   \n",
              "9                          Pretty Little Liars  TV-14   \n",
              "10                            Once Upon a Time  TV-PG   \n",
              "11                                    Sherlock  TV-14   \n",
              "..                                         ...    ...   \n",
              "794                 Alpha and Omega: Dino Digs   TV-G   \n",
              "796                                   Quackerz     PG   \n",
              "837                                Puffin Rock   TV-Y   \n",
              "848  LEGO Jurassic World: The Indominus Escape  TV-Y7   \n",
              "994                                   Pup Star      G   \n",
              "\n",
              "                                                                       ratingLevel  \\\n",
              "2    Parents strongly cautioned. May be unsuitable for children ages 14 and under.   \n",
              "5    Parents strongly cautioned. May be unsuitable for children ages 14 and under.   \n",
              "9    Parents strongly cautioned. May be unsuitable for children ages 14 and under.   \n",
              "10              Parental guidance suggested. May not be suitable for all children.   \n",
              "11   Parents strongly cautioned. May be unsuitable for children ages 14 and under.   \n",
              "..                                                                             ...   \n",
              "794                                                         Suitable for all ages.   \n",
              "796                                     rude and suggestive humor, and some action   \n",
              "837                                                         Suitable for all ages.   \n",
              "848                                         Suitable for children ages 7 and older   \n",
              "994                                      General Audiences. Suitable for all ages.   \n",
              "\n",
              "     release_year  user_rating_score  \n",
              "2            2016               98.0  \n",
              "5            2016               95.0  \n",
              "9            2016               96.0  \n",
              "10           2016               98.0  \n",
              "11           2016               95.0  \n",
              "..            ...                ...  \n",
              "794          2016                NaN  \n",
              "796          2016                NaN  \n",
              "837          2016                NaN  \n",
              "848          2016                NaN  \n",
              "994          2016                NaN  \n",
              "\n",
              "[146 rows x 5 columns]"
            ],
            "text/html": [
              "\n",
              "  <div id=\"df-2737bfe9-0036-4590-a8ee-eabae2863b47\">\n",
              "    <div class=\"colab-df-container\">\n",
              "      <div>\n",
              "<style scoped>\n",
              "    .dataframe tbody tr th:only-of-type {\n",
              "        vertical-align: middle;\n",
              "    }\n",
              "\n",
              "    .dataframe tbody tr th {\n",
              "        vertical-align: top;\n",
              "    }\n",
              "\n",
              "    .dataframe thead th {\n",
              "        text-align: right;\n",
              "    }\n",
              "</style>\n",
              "<table border=\"1\" class=\"dataframe\">\n",
              "  <thead>\n",
              "    <tr style=\"text-align: right;\">\n",
              "      <th></th>\n",
              "      <th>title</th>\n",
              "      <th>rating</th>\n",
              "      <th>ratingLevel</th>\n",
              "      <th>release_year</th>\n",
              "      <th>user_rating_score</th>\n",
              "    </tr>\n",
              "  </thead>\n",
              "  <tbody>\n",
              "    <tr>\n",
              "      <th>2</th>\n",
              "      <td>Grey's Anatomy</td>\n",
              "      <td>TV-14</td>\n",
              "      <td>Parents strongly cautioned. May be unsuitable for children ages 14 and under.</td>\n",
              "      <td>2016</td>\n",
              "      <td>98.0</td>\n",
              "    </tr>\n",
              "    <tr>\n",
              "      <th>5</th>\n",
              "      <td>Supernatural</td>\n",
              "      <td>TV-14</td>\n",
              "      <td>Parents strongly cautioned. May be unsuitable for children ages 14 and under.</td>\n",
              "      <td>2016</td>\n",
              "      <td>95.0</td>\n",
              "    </tr>\n",
              "    <tr>\n",
              "      <th>9</th>\n",
              "      <td>Pretty Little Liars</td>\n",
              "      <td>TV-14</td>\n",
              "      <td>Parents strongly cautioned. May be unsuitable for children ages 14 and under.</td>\n",
              "      <td>2016</td>\n",
              "      <td>96.0</td>\n",
              "    </tr>\n",
              "    <tr>\n",
              "      <th>10</th>\n",
              "      <td>Once Upon a Time</td>\n",
              "      <td>TV-PG</td>\n",
              "      <td>Parental guidance suggested. May not be suitable for all children.</td>\n",
              "      <td>2016</td>\n",
              "      <td>98.0</td>\n",
              "    </tr>\n",
              "    <tr>\n",
              "      <th>11</th>\n",
              "      <td>Sherlock</td>\n",
              "      <td>TV-14</td>\n",
              "      <td>Parents strongly cautioned. May be unsuitable for children ages 14 and under.</td>\n",
              "      <td>2016</td>\n",
              "      <td>95.0</td>\n",
              "    </tr>\n",
              "    <tr>\n",
              "      <th>...</th>\n",
              "      <td>...</td>\n",
              "      <td>...</td>\n",
              "      <td>...</td>\n",
              "      <td>...</td>\n",
              "      <td>...</td>\n",
              "    </tr>\n",
              "    <tr>\n",
              "      <th>794</th>\n",
              "      <td>Alpha and Omega: Dino Digs</td>\n",
              "      <td>TV-G</td>\n",
              "      <td>Suitable for all ages.</td>\n",
              "      <td>2016</td>\n",
              "      <td>NaN</td>\n",
              "    </tr>\n",
              "    <tr>\n",
              "      <th>796</th>\n",
              "      <td>Quackerz</td>\n",
              "      <td>PG</td>\n",
              "      <td>rude and suggestive humor, and some action</td>\n",
              "      <td>2016</td>\n",
              "      <td>NaN</td>\n",
              "    </tr>\n",
              "    <tr>\n",
              "      <th>837</th>\n",
              "      <td>Puffin Rock</td>\n",
              "      <td>TV-Y</td>\n",
              "      <td>Suitable for all ages.</td>\n",
              "      <td>2016</td>\n",
              "      <td>NaN</td>\n",
              "    </tr>\n",
              "    <tr>\n",
              "      <th>848</th>\n",
              "      <td>LEGO Jurassic World: The Indominus Escape</td>\n",
              "      <td>TV-Y7</td>\n",
              "      <td>Suitable for children ages 7 and older</td>\n",
              "      <td>2016</td>\n",
              "      <td>NaN</td>\n",
              "    </tr>\n",
              "    <tr>\n",
              "      <th>994</th>\n",
              "      <td>Pup Star</td>\n",
              "      <td>G</td>\n",
              "      <td>General Audiences. Suitable for all ages.</td>\n",
              "      <td>2016</td>\n",
              "      <td>NaN</td>\n",
              "    </tr>\n",
              "  </tbody>\n",
              "</table>\n",
              "<p>146 rows × 5 columns</p>\n",
              "</div>\n",
              "      <button class=\"colab-df-convert\" onclick=\"convertToInteractive('df-2737bfe9-0036-4590-a8ee-eabae2863b47')\"\n",
              "              title=\"Convert this dataframe to an interactive table.\"\n",
              "              style=\"display:none;\">\n",
              "        \n",
              "  <svg xmlns=\"http://www.w3.org/2000/svg\" height=\"24px\"viewBox=\"0 0 24 24\"\n",
              "       width=\"24px\">\n",
              "    <path d=\"M0 0h24v24H0V0z\" fill=\"none\"/>\n",
              "    <path d=\"M18.56 5.44l.94 2.06.94-2.06 2.06-.94-2.06-.94-.94-2.06-.94 2.06-2.06.94zm-11 1L8.5 8.5l.94-2.06 2.06-.94-2.06-.94L8.5 2.5l-.94 2.06-2.06.94zm10 10l.94 2.06.94-2.06 2.06-.94-2.06-.94-.94-2.06-.94 2.06-2.06.94z\"/><path d=\"M17.41 7.96l-1.37-1.37c-.4-.4-.92-.59-1.43-.59-.52 0-1.04.2-1.43.59L10.3 9.45l-7.72 7.72c-.78.78-.78 2.05 0 2.83L4 21.41c.39.39.9.59 1.41.59.51 0 1.02-.2 1.41-.59l7.78-7.78 2.81-2.81c.8-.78.8-2.07 0-2.86zM5.41 20L4 18.59l7.72-7.72 1.47 1.35L5.41 20z\"/>\n",
              "  </svg>\n",
              "      </button>\n",
              "      \n",
              "  <style>\n",
              "    .colab-df-container {\n",
              "      display:flex;\n",
              "      flex-wrap:wrap;\n",
              "      gap: 12px;\n",
              "    }\n",
              "\n",
              "    .colab-df-convert {\n",
              "      background-color: #E8F0FE;\n",
              "      border: none;\n",
              "      border-radius: 50%;\n",
              "      cursor: pointer;\n",
              "      display: none;\n",
              "      fill: #1967D2;\n",
              "      height: 32px;\n",
              "      padding: 0 0 0 0;\n",
              "      width: 32px;\n",
              "    }\n",
              "\n",
              "    .colab-df-convert:hover {\n",
              "      background-color: #E2EBFA;\n",
              "      box-shadow: 0px 1px 2px rgba(60, 64, 67, 0.3), 0px 1px 3px 1px rgba(60, 64, 67, 0.15);\n",
              "      fill: #174EA6;\n",
              "    }\n",
              "\n",
              "    [theme=dark] .colab-df-convert {\n",
              "      background-color: #3B4455;\n",
              "      fill: #D2E3FC;\n",
              "    }\n",
              "\n",
              "    [theme=dark] .colab-df-convert:hover {\n",
              "      background-color: #434B5C;\n",
              "      box-shadow: 0px 1px 3px 1px rgba(0, 0, 0, 0.15);\n",
              "      filter: drop-shadow(0px 1px 2px rgba(0, 0, 0, 0.3));\n",
              "      fill: #FFFFFF;\n",
              "    }\n",
              "  </style>\n",
              "\n",
              "      <script>\n",
              "        const buttonEl =\n",
              "          document.querySelector('#df-2737bfe9-0036-4590-a8ee-eabae2863b47 button.colab-df-convert');\n",
              "        buttonEl.style.display =\n",
              "          google.colab.kernel.accessAllowed ? 'block' : 'none';\n",
              "\n",
              "        async function convertToInteractive(key) {\n",
              "          const element = document.querySelector('#df-2737bfe9-0036-4590-a8ee-eabae2863b47');\n",
              "          const dataTable =\n",
              "            await google.colab.kernel.invokeFunction('convertToInteractive',\n",
              "                                                     [key], {});\n",
              "          if (!dataTable) return;\n",
              "\n",
              "          const docLinkHtml = 'Like what you see? Visit the ' +\n",
              "            '<a target=\"_blank\" href=https://colab.research.google.com/notebooks/data_table.ipynb>data table notebook</a>'\n",
              "            + ' to learn more about interactive tables.';\n",
              "          element.innerHTML = '';\n",
              "          dataTable['output_type'] = 'display_data';\n",
              "          await google.colab.output.renderOutput(dataTable, element);\n",
              "          const docLink = document.createElement('div');\n",
              "          docLink.innerHTML = docLinkHtml;\n",
              "          element.appendChild(docLink);\n",
              "        }\n",
              "      </script>\n",
              "    </div>\n",
              "  </div>\n",
              "  "
            ]
          },
          "metadata": {},
          "execution_count": 26
        }
      ]
    },
    {
      "cell_type": "markdown",
      "metadata": {
        "id": "eWCSRMOse3fv"
      },
      "source": [
        "### Сравнение шоу\n",
        "Для интереса, сравним один из моих лубимых сериалов с остальными, представленными в датасете. \n",
        "Пусть это будет Sherlock!"
      ]
    },
    {
      "cell_type": "code",
      "execution_count": 27,
      "metadata": {
        "id": "5sEouGVg4D4L",
        "colab": {
          "base_uri": "https://localhost:8080/",
          "height": 81
        },
        "outputId": "0fff5851-6fe8-4f3f-b207-1c9213f7c00c"
      },
      "outputs": [
        {
          "output_type": "execute_result",
          "data": {
            "text/plain": [
              "       title rating  \\\n",
              "11  Sherlock  TV-14   \n",
              "\n",
              "                                                                      ratingLevel  \\\n",
              "11  Parents strongly cautioned. May be unsuitable for children ages 14 and under.   \n",
              "\n",
              "    release_year  user_rating_score  \n",
              "11          2016               95.0  "
            ],
            "text/html": [
              "\n",
              "  <div id=\"df-b29fbeaf-b2a3-49f1-adeb-033a3f2b7f01\">\n",
              "    <div class=\"colab-df-container\">\n",
              "      <div>\n",
              "<style scoped>\n",
              "    .dataframe tbody tr th:only-of-type {\n",
              "        vertical-align: middle;\n",
              "    }\n",
              "\n",
              "    .dataframe tbody tr th {\n",
              "        vertical-align: top;\n",
              "    }\n",
              "\n",
              "    .dataframe thead th {\n",
              "        text-align: right;\n",
              "    }\n",
              "</style>\n",
              "<table border=\"1\" class=\"dataframe\">\n",
              "  <thead>\n",
              "    <tr style=\"text-align: right;\">\n",
              "      <th></th>\n",
              "      <th>title</th>\n",
              "      <th>rating</th>\n",
              "      <th>ratingLevel</th>\n",
              "      <th>release_year</th>\n",
              "      <th>user_rating_score</th>\n",
              "    </tr>\n",
              "  </thead>\n",
              "  <tbody>\n",
              "    <tr>\n",
              "      <th>11</th>\n",
              "      <td>Sherlock</td>\n",
              "      <td>TV-14</td>\n",
              "      <td>Parents strongly cautioned. May be unsuitable for children ages 14 and under.</td>\n",
              "      <td>2016</td>\n",
              "      <td>95.0</td>\n",
              "    </tr>\n",
              "  </tbody>\n",
              "</table>\n",
              "</div>\n",
              "      <button class=\"colab-df-convert\" onclick=\"convertToInteractive('df-b29fbeaf-b2a3-49f1-adeb-033a3f2b7f01')\"\n",
              "              title=\"Convert this dataframe to an interactive table.\"\n",
              "              style=\"display:none;\">\n",
              "        \n",
              "  <svg xmlns=\"http://www.w3.org/2000/svg\" height=\"24px\"viewBox=\"0 0 24 24\"\n",
              "       width=\"24px\">\n",
              "    <path d=\"M0 0h24v24H0V0z\" fill=\"none\"/>\n",
              "    <path d=\"M18.56 5.44l.94 2.06.94-2.06 2.06-.94-2.06-.94-.94-2.06-.94 2.06-2.06.94zm-11 1L8.5 8.5l.94-2.06 2.06-.94-2.06-.94L8.5 2.5l-.94 2.06-2.06.94zm10 10l.94 2.06.94-2.06 2.06-.94-2.06-.94-.94-2.06-.94 2.06-2.06.94z\"/><path d=\"M17.41 7.96l-1.37-1.37c-.4-.4-.92-.59-1.43-.59-.52 0-1.04.2-1.43.59L10.3 9.45l-7.72 7.72c-.78.78-.78 2.05 0 2.83L4 21.41c.39.39.9.59 1.41.59.51 0 1.02-.2 1.41-.59l7.78-7.78 2.81-2.81c.8-.78.8-2.07 0-2.86zM5.41 20L4 18.59l7.72-7.72 1.47 1.35L5.41 20z\"/>\n",
              "  </svg>\n",
              "      </button>\n",
              "      \n",
              "  <style>\n",
              "    .colab-df-container {\n",
              "      display:flex;\n",
              "      flex-wrap:wrap;\n",
              "      gap: 12px;\n",
              "    }\n",
              "\n",
              "    .colab-df-convert {\n",
              "      background-color: #E8F0FE;\n",
              "      border: none;\n",
              "      border-radius: 50%;\n",
              "      cursor: pointer;\n",
              "      display: none;\n",
              "      fill: #1967D2;\n",
              "      height: 32px;\n",
              "      padding: 0 0 0 0;\n",
              "      width: 32px;\n",
              "    }\n",
              "\n",
              "    .colab-df-convert:hover {\n",
              "      background-color: #E2EBFA;\n",
              "      box-shadow: 0px 1px 2px rgba(60, 64, 67, 0.3), 0px 1px 3px 1px rgba(60, 64, 67, 0.15);\n",
              "      fill: #174EA6;\n",
              "    }\n",
              "\n",
              "    [theme=dark] .colab-df-convert {\n",
              "      background-color: #3B4455;\n",
              "      fill: #D2E3FC;\n",
              "    }\n",
              "\n",
              "    [theme=dark] .colab-df-convert:hover {\n",
              "      background-color: #434B5C;\n",
              "      box-shadow: 0px 1px 3px 1px rgba(0, 0, 0, 0.15);\n",
              "      filter: drop-shadow(0px 1px 2px rgba(0, 0, 0, 0.3));\n",
              "      fill: #FFFFFF;\n",
              "    }\n",
              "  </style>\n",
              "\n",
              "      <script>\n",
              "        const buttonEl =\n",
              "          document.querySelector('#df-b29fbeaf-b2a3-49f1-adeb-033a3f2b7f01 button.colab-df-convert');\n",
              "        buttonEl.style.display =\n",
              "          google.colab.kernel.accessAllowed ? 'block' : 'none';\n",
              "\n",
              "        async function convertToInteractive(key) {\n",
              "          const element = document.querySelector('#df-b29fbeaf-b2a3-49f1-adeb-033a3f2b7f01');\n",
              "          const dataTable =\n",
              "            await google.colab.kernel.invokeFunction('convertToInteractive',\n",
              "                                                     [key], {});\n",
              "          if (!dataTable) return;\n",
              "\n",
              "          const docLinkHtml = 'Like what you see? Visit the ' +\n",
              "            '<a target=\"_blank\" href=https://colab.research.google.com/notebooks/data_table.ipynb>data table notebook</a>'\n",
              "            + ' to learn more about interactive tables.';\n",
              "          element.innerHTML = '';\n",
              "          dataTable['output_type'] = 'display_data';\n",
              "          await google.colab.output.renderOutput(dataTable, element);\n",
              "          const docLink = document.createElement('div');\n",
              "          docLink.innerHTML = docLinkHtml;\n",
              "          element.appendChild(docLink);\n",
              "        }\n",
              "      </script>\n",
              "    </div>\n",
              "  </div>\n",
              "  "
            ]
          },
          "metadata": {},
          "execution_count": 27
        }
      ],
      "source": [
        "data_without_dupl[data_without_dupl.title == 'Sherlock']"
      ]
    },
    {
      "cell_type": "code",
      "source": [
        "# настоящий release year 1-го сезона: 2010"
      ],
      "metadata": {
        "id": "orhDO37SAUcf"
      },
      "execution_count": null,
      "outputs": []
    },
    {
      "cell_type": "code",
      "source": [
        "# фильмы выборки с такой же оценкой и рейтинговой группой\n",
        "data_without_dupl[(data_without_dupl.user_rating_score == 95.0) & (data_without_dupl.rating == 'TV-14') & (data_without_dupl.title != 'Sherlock')]"
      ],
      "metadata": {
        "id": "n8HeCPcuAf-E",
        "colab": {
          "base_uri": "https://localhost:8080/",
          "height": 143
        },
        "outputId": "2f7d2699-c13c-4cb2-85da-698b788073f0"
      },
      "execution_count": 28,
      "outputs": [
        {
          "output_type": "execute_result",
          "data": {
            "text/plain": [
              "                           title rating  \\\n",
              "5                   Supernatural  TV-14   \n",
              "79   How to Get Away with Murder  TV-14   \n",
              "465                  Blue Bloods  TV-14   \n",
              "\n",
              "                                                                       ratingLevel  \\\n",
              "5    Parents strongly cautioned. May be unsuitable for children ages 14 and under.   \n",
              "79   Parents strongly cautioned. May be unsuitable for children ages 14 and under.   \n",
              "465  Parents strongly cautioned. May be unsuitable for children ages 14 and under.   \n",
              "\n",
              "     release_year  user_rating_score  \n",
              "5            2016               95.0  \n",
              "79           2016               95.0  \n",
              "465          2016               95.0  "
            ],
            "text/html": [
              "\n",
              "  <div id=\"df-0d94ddac-c434-4e27-892c-464efb822478\">\n",
              "    <div class=\"colab-df-container\">\n",
              "      <div>\n",
              "<style scoped>\n",
              "    .dataframe tbody tr th:only-of-type {\n",
              "        vertical-align: middle;\n",
              "    }\n",
              "\n",
              "    .dataframe tbody tr th {\n",
              "        vertical-align: top;\n",
              "    }\n",
              "\n",
              "    .dataframe thead th {\n",
              "        text-align: right;\n",
              "    }\n",
              "</style>\n",
              "<table border=\"1\" class=\"dataframe\">\n",
              "  <thead>\n",
              "    <tr style=\"text-align: right;\">\n",
              "      <th></th>\n",
              "      <th>title</th>\n",
              "      <th>rating</th>\n",
              "      <th>ratingLevel</th>\n",
              "      <th>release_year</th>\n",
              "      <th>user_rating_score</th>\n",
              "    </tr>\n",
              "  </thead>\n",
              "  <tbody>\n",
              "    <tr>\n",
              "      <th>5</th>\n",
              "      <td>Supernatural</td>\n",
              "      <td>TV-14</td>\n",
              "      <td>Parents strongly cautioned. May be unsuitable for children ages 14 and under.</td>\n",
              "      <td>2016</td>\n",
              "      <td>95.0</td>\n",
              "    </tr>\n",
              "    <tr>\n",
              "      <th>79</th>\n",
              "      <td>How to Get Away with Murder</td>\n",
              "      <td>TV-14</td>\n",
              "      <td>Parents strongly cautioned. May be unsuitable for children ages 14 and under.</td>\n",
              "      <td>2016</td>\n",
              "      <td>95.0</td>\n",
              "    </tr>\n",
              "    <tr>\n",
              "      <th>465</th>\n",
              "      <td>Blue Bloods</td>\n",
              "      <td>TV-14</td>\n",
              "      <td>Parents strongly cautioned. May be unsuitable for children ages 14 and under.</td>\n",
              "      <td>2016</td>\n",
              "      <td>95.0</td>\n",
              "    </tr>\n",
              "  </tbody>\n",
              "</table>\n",
              "</div>\n",
              "      <button class=\"colab-df-convert\" onclick=\"convertToInteractive('df-0d94ddac-c434-4e27-892c-464efb822478')\"\n",
              "              title=\"Convert this dataframe to an interactive table.\"\n",
              "              style=\"display:none;\">\n",
              "        \n",
              "  <svg xmlns=\"http://www.w3.org/2000/svg\" height=\"24px\"viewBox=\"0 0 24 24\"\n",
              "       width=\"24px\">\n",
              "    <path d=\"M0 0h24v24H0V0z\" fill=\"none\"/>\n",
              "    <path d=\"M18.56 5.44l.94 2.06.94-2.06 2.06-.94-2.06-.94-.94-2.06-.94 2.06-2.06.94zm-11 1L8.5 8.5l.94-2.06 2.06-.94-2.06-.94L8.5 2.5l-.94 2.06-2.06.94zm10 10l.94 2.06.94-2.06 2.06-.94-2.06-.94-.94-2.06-.94 2.06-2.06.94z\"/><path d=\"M17.41 7.96l-1.37-1.37c-.4-.4-.92-.59-1.43-.59-.52 0-1.04.2-1.43.59L10.3 9.45l-7.72 7.72c-.78.78-.78 2.05 0 2.83L4 21.41c.39.39.9.59 1.41.59.51 0 1.02-.2 1.41-.59l7.78-7.78 2.81-2.81c.8-.78.8-2.07 0-2.86zM5.41 20L4 18.59l7.72-7.72 1.47 1.35L5.41 20z\"/>\n",
              "  </svg>\n",
              "      </button>\n",
              "      \n",
              "  <style>\n",
              "    .colab-df-container {\n",
              "      display:flex;\n",
              "      flex-wrap:wrap;\n",
              "      gap: 12px;\n",
              "    }\n",
              "\n",
              "    .colab-df-convert {\n",
              "      background-color: #E8F0FE;\n",
              "      border: none;\n",
              "      border-radius: 50%;\n",
              "      cursor: pointer;\n",
              "      display: none;\n",
              "      fill: #1967D2;\n",
              "      height: 32px;\n",
              "      padding: 0 0 0 0;\n",
              "      width: 32px;\n",
              "    }\n",
              "\n",
              "    .colab-df-convert:hover {\n",
              "      background-color: #E2EBFA;\n",
              "      box-shadow: 0px 1px 2px rgba(60, 64, 67, 0.3), 0px 1px 3px 1px rgba(60, 64, 67, 0.15);\n",
              "      fill: #174EA6;\n",
              "    }\n",
              "\n",
              "    [theme=dark] .colab-df-convert {\n",
              "      background-color: #3B4455;\n",
              "      fill: #D2E3FC;\n",
              "    }\n",
              "\n",
              "    [theme=dark] .colab-df-convert:hover {\n",
              "      background-color: #434B5C;\n",
              "      box-shadow: 0px 1px 3px 1px rgba(0, 0, 0, 0.15);\n",
              "      filter: drop-shadow(0px 1px 2px rgba(0, 0, 0, 0.3));\n",
              "      fill: #FFFFFF;\n",
              "    }\n",
              "  </style>\n",
              "\n",
              "      <script>\n",
              "        const buttonEl =\n",
              "          document.querySelector('#df-0d94ddac-c434-4e27-892c-464efb822478 button.colab-df-convert');\n",
              "        buttonEl.style.display =\n",
              "          google.colab.kernel.accessAllowed ? 'block' : 'none';\n",
              "\n",
              "        async function convertToInteractive(key) {\n",
              "          const element = document.querySelector('#df-0d94ddac-c434-4e27-892c-464efb822478');\n",
              "          const dataTable =\n",
              "            await google.colab.kernel.invokeFunction('convertToInteractive',\n",
              "                                                     [key], {});\n",
              "          if (!dataTable) return;\n",
              "\n",
              "          const docLinkHtml = 'Like what you see? Visit the ' +\n",
              "            '<a target=\"_blank\" href=https://colab.research.google.com/notebooks/data_table.ipynb>data table notebook</a>'\n",
              "            + ' to learn more about interactive tables.';\n",
              "          element.innerHTML = '';\n",
              "          dataTable['output_type'] = 'display_data';\n",
              "          await google.colab.output.renderOutput(dataTable, element);\n",
              "          const docLink = document.createElement('div');\n",
              "          docLink.innerHTML = docLinkHtml;\n",
              "          element.appendChild(docLink);\n",
              "        }\n",
              "      </script>\n",
              "    </div>\n",
              "  </div>\n",
              "  "
            ]
          },
          "metadata": {},
          "execution_count": 28
        }
      ]
    },
    {
      "cell_type": "code",
      "source": [
        "# сравнение оценки сериала с оценками всей выборки\n",
        "x = [1, 2, 3]\n",
        "y = [data_without_dupl.user_rating_score.min(), data_without_dupl.user_rating_score.max(), data_without_dupl.user_rating_score.mean()]\n",
        "x2 = [i + 0.4 for i in x]\n",
        "y2 = [95, 95, 95]\n",
        "plt.bar(x, y,  width = 0.4)\n",
        "plt.bar(x2, y2,  width = 0.4)\n",
        "plt.xticks([1, 1.4, 2, 2.4, 3, 3.4], ['Мин', 'Шерлок', 'Макс', 'Шерлок', 'Среднее', 'Шерлок'])\n",
        "plt.title('Сравнение оценок Шерлока с оценками других шоу', size = 18)\n",
        "print()\n",
        "\n"
      ],
      "metadata": {
        "colab": {
          "base_uri": "https://localhost:8080/",
          "height": 302
        },
        "id": "Zf9RgLWiRhqZ",
        "outputId": "b26b991e-90b8-4de5-89cc-7582633453ad"
      },
      "execution_count": 29,
      "outputs": [
        {
          "output_type": "stream",
          "name": "stdout",
          "text": [
            "\n"
          ]
        },
        {
          "output_type": "display_data",
          "data": {
            "text/plain": [
              "<Figure size 432x288 with 1 Axes>"
            ],
            "image/png": "[encoded data removed]"
          },
          "metadata": {
            "needs_background": "light"
          }
        }
      ]
    },
    {
      "cell_type": "code",
      "source": [],
      "metadata": {
        "id": "w1qCUMJOTv4n"
      },
      "execution_count": null,
      "outputs": []
    }
  ],
  "metadata": {
    "colab": {
      "provenance": [],
      "include_colab_link": true
    },
    "interpreter": {
      "hash": "b0fa6594d8f4cbf19f97940f81e996739fb7646882a419484c72d19e05852a7e"
    },
    "kernelspec": {
      "display_name": "Python 3.9.10 64-bit",
      "language": "python",
      "name": "python3"
    },
    "language_info": {
      "codemirror_mode": {
        "name": "ipython",
        "version": 3
      },
      "file_extension": ".py",
      "mimetype": "text/x-python",
      "name": "python",
      "nbconvert_exporter": "python",
      "pygments_lexer": "ipython3",
      "version": "3.9.10"
    }
  },
  "nbformat": 4,
  "nbformat_minor": 0
}